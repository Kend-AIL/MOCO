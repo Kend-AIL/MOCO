{
 "cells": [
  {
   "cell_type": "markdown",
   "metadata": {},
   "source": [
    "人类呼吸频率0.05-0.5hz\n",
    "采样12个frame时间：大约6.5s\n",
    "6.5秒内呼吸次数在0.32-3.2次之间\n",
    "\n"
   ]
  },
  {
   "cell_type": "code",
   "execution_count": 5,
   "metadata": {},
   "outputs": [],
   "source": [
    "\n",
    "import numpy as np\n",
    "import os"
   ]
  },
  {
   "cell_type": "code",
   "execution_count": 10,
   "metadata": {},
   "outputs": [],
   "source": [
    "import numpy as np\n",
    "\n",
    "def generate_random_masks(height, width, window_size=8, num_windows=4, num_masks=5):\n",
    "    \"\"\"\n",
    "    生成指定维度的随机掩码。\n",
    "\n",
    "    参数:\n",
    "        height (int): 每个掩码的高度。\n",
    "        width (int): 每个掩码的宽度。\n",
    "        window_size (int): 含有零行的每个窗口的大小。\n",
    "        num_windows (int): 每个掩码中的窗口数量。\n",
    "        num_masks (int): 要生成的掩码数量。\n",
    "\n",
    "    返回:\n",
    "        numpy.ndarray: 形状为 (num_masks, height, width) 的数组，包含生成的掩码。\n",
    "    \"\"\"\n",
    "    masks_list = []\n",
    "\n",
    "    for _ in range(num_masks):\n",
    "        mask = np.ones((height, width))  # 初始化所有元素为1的掩码\n",
    "        available_height = height - (window_size * num_windows)  # 计算可用的高度，以确保窗口不会超出边界\n",
    "        \n",
    "        if available_height < 0:\n",
    "            raise ValueError(\"指定的窗口数和大小超出了掩码的高度范围\")\n",
    "        \n",
    "        # 随机生成每个窗口的起始位置\n",
    "        window_starts = np.random.choice(available_height + 1, num_windows, replace=False)\n",
    "        \n",
    "        # 对窗口起始位置进行排序\n",
    "        window_starts.sort()\n",
    "        \n",
    "        # 在每个窗口的起始位置处设置零行\n",
    "        for start_pos in window_starts:\n",
    "            mask[start_pos:start_pos + window_size, :] = 0\n",
    "        \n",
    "        masks_list.append(mask)\n",
    "\n",
    "    return np.array(masks_list)\n",
    "\n"
   ]
  },
  {
   "cell_type": "code",
   "execution_count": 18,
   "metadata": {},
   "outputs": [],
   "source": [
    "def save_mask(load_root,save_root,window_size,num_window,mask_num):\n",
    "    patient_list=os.listdir(load_root)\n",
    "    save_root=save_root+f\"_{mask_num}x{num_window}x{window_size}\"\n",
    "    if not os.path.exists(save_root):\n",
    "        os.mkdir(save_root)\n",
    "    for patient in sorted(patient_list):\n",
    "        load_patient_path=os.path.join(load_root,patient)\n",
    "        save_patient_path=os.path.join(save_root,patient)\n",
    "        if not os.path.exists(save_patient_path):\n",
    "            os.mkdir(save_patient_path)\n",
    "        file_list=os.listdir(load_patient_path)\n",
    "        for file in file_list:\n",
    "            if 'msak' in file:\n",
    "                continue\n",
    "            else:\n",
    "                file_name=os.path.splitext(file)[0]\n",
    "                file_path=os.path.join(load_patient_path,file)\n",
    "                mask=generate_random_masks(128,128,window_size=window_size,num_windows=num_window,num_masks=mask_num).astype(np.float32)\n",
    "                \n",
    "                file_save_name=file_name+f'_mask.npy'\n",
    "                save_file_path=os.path.join(save_patient_path,file_save_name)\n",
    "                np.save(save_file_path,mask)\n",
    "                    "
   ]
  },
  {
   "cell_type": "code",
   "execution_count": 19,
   "metadata": {},
   "outputs": [],
   "source": [
    "load_root=\"/mnt/datasets/CMR/MICCAIChallenge2023/ChallengeData/SingleCoil/Cine/PD/train/TrainingSet/FullSample_slice\"\n",
    "save_root=\"/mnt/datasets/CMR/MICCAIChallenge2023/ChallengeData/SingleCoil/Cine/PD/train/TrainingSet/Noise_Mask\""
   ]
  },
  {
   "cell_type": "code",
   "execution_count": 20,
   "metadata": {},
   "outputs": [],
   "source": [
    "save_mask(load_root,save_root,4,8,6)"
   ]
  }
 ],
 "metadata": {
  "kernelspec": {
   "display_name": "diffus",
   "language": "python",
   "name": "python3"
  },
  "language_info": {
   "codemirror_mode": {
    "name": "ipython",
    "version": 3
   },
   "file_extension": ".py",
   "mimetype": "text/x-python",
   "name": "python",
   "nbconvert_exporter": "python",
   "pygments_lexer": "ipython3",
   "version": "3.8.18"
  }
 },
 "nbformat": 4,
 "nbformat_minor": 2
}
